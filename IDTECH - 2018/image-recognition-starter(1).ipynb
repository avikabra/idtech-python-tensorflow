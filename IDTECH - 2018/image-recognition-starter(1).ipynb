{
 "cells": [
  {
   "cell_type": "markdown",
   "metadata": {
    "collapsed": true
   },
   "source": [
    "Image Recognition\n",
    "===\n",
    "\n",
    "This notebook will create a convolutional neural network to classify images in either the mnist or cifar-10 datasets."
   ]
  },
  {
   "cell_type": "code",
   "execution_count": 9,
   "metadata": {},
   "outputs": [
    {
     "ename": "ImportError",
     "evalue": "No module named tensorflow",
     "traceback": [
      "\u001b[0;31m\u001b[0m",
      "\u001b[0;31mImportError\u001b[0mTraceback (most recent call last)",
      "\u001b[0;32m<ipython-input-9-6ce345add583>\u001b[0m in \u001b[0;36m<module>\u001b[0;34m()\u001b[0m\n\u001b[1;32m      1\u001b[0m \u001b[0;31m# Tensorflow and numpy to create the neural network\u001b[0m\u001b[0;34m\u001b[0m\u001b[0;34m\u001b[0m\u001b[0m\n\u001b[0;32m----> 2\u001b[0;31m \u001b[0;32mimport\u001b[0m \u001b[0mtensorflow\u001b[0m \u001b[0;32mas\u001b[0m \u001b[0mtf\u001b[0m\u001b[0;34m\u001b[0m\u001b[0m\n\u001b[0m\u001b[1;32m      3\u001b[0m \u001b[0;32mimport\u001b[0m \u001b[0mnumpy\u001b[0m \u001b[0;32mas\u001b[0m \u001b[0mnp\u001b[0m\u001b[0;34m\u001b[0m\u001b[0m\n\u001b[1;32m      4\u001b[0m \u001b[0;34m\u001b[0m\u001b[0m\n\u001b[1;32m      5\u001b[0m \u001b[0;31m# Matplotlib to plot info to show our results\u001b[0m\u001b[0;34m\u001b[0m\u001b[0;34m\u001b[0m\u001b[0m\n",
      "\u001b[0;31mImportError\u001b[0m: No module named tensorflow"
     ],
     "output_type": "error"
    }
   ],
   "source": [
    "# Tensorflow and numpy to create the neural network\n",
    "import tensorflow as tf\n",
    "import numpy as np\n",
    "\n",
    "# Matplotlib to plot info to show our results\n",
    "import matplotlib.pyplot as plt\n",
    "\n",
    "# OS to load files and save checkpoints\n",
    "import os\n",
    "\n",
    "%matplotlib inline"
   ]
  },
  {
   "cell_type": "markdown",
   "metadata": {},
   "source": [
    "Loading the data\n",
    "---\n",
    "\n",
    "This code will load the dataset that you'll use to train and test the model.\n",
    "\n",
    "The code provided will load the mnist or cifar data from files, you'll need to add the code that processes it into a format your neural network can use."
   ]
  },
  {
   "cell_type": "markdown",
   "metadata": {},
   "source": [
    "MNIST\n",
    "---\n",
    "\n",
    "Run this cell to load mnist data."
   ]
  },
  {
   "cell_type": "code",
   "execution_count": 3,
   "metadata": {},
   "outputs": [
    {
     "ename": "NameError",
     "evalue": "name 'tf' is not defined",
     "traceback": [
      "\u001b[0;31m\u001b[0m",
      "\u001b[0;31mNameError\u001b[0mTraceback (most recent call last)",
      "\u001b[0;32m<ipython-input-3-eae891eb0594>\u001b[0m in \u001b[0;36m<module>\u001b[0;34m()\u001b[0m\n\u001b[1;32m      8\u001b[0m \u001b[0mmodel_name\u001b[0m \u001b[0;34m=\u001b[0m \u001b[0;34m\"mnist\"\u001b[0m\u001b[0;34m\u001b[0m\u001b[0m\n\u001b[1;32m      9\u001b[0m \u001b[0;34m\u001b[0m\u001b[0m\n\u001b[0;32m---> 10\u001b[0;31m \u001b[0mmnist\u001b[0m \u001b[0;34m=\u001b[0m \u001b[0mtf\u001b[0m\u001b[0;34m.\u001b[0m\u001b[0mcontrib\u001b[0m\u001b[0;34m.\u001b[0m\u001b[0mlearn\u001b[0m\u001b[0;34m.\u001b[0m\u001b[0mdatasets\u001b[0m\u001b[0;34m.\u001b[0m\u001b[0mload_dataset\u001b[0m\u001b[0;34m(\u001b[0m\u001b[0;34m\"mnist\"\u001b[0m\u001b[0;34m)\u001b[0m\u001b[0;34m\u001b[0m\u001b[0m\n\u001b[0m\u001b[1;32m     11\u001b[0m \u001b[0;34m\u001b[0m\u001b[0m\n\u001b[1;32m     12\u001b[0m \u001b[0mtrain_data\u001b[0m \u001b[0;34m=\u001b[0m \u001b[0mmnist\u001b[0m\u001b[0;34m.\u001b[0m\u001b[0mtrain\u001b[0m\u001b[0;34m.\u001b[0m\u001b[0mimages\u001b[0m\u001b[0;34m\u001b[0m\u001b[0m\n",
      "\u001b[0;31mNameError\u001b[0m: name 'tf' is not defined"
     ],
     "output_type": "error"
    }
   ],
   "source": [
    "# Load MNIST data from tf examples\n",
    "\n",
    "image_height = 28\n",
    "image_width = 28\n",
    "\n",
    "color_channels = 1\n",
    "\n",
    "model_name = \"mnist\"\n",
    "\n",
    "mnist = tf.contrib.learn.datasets.load_dataset(\"mnist\")\n",
    "\n",
    "train_data = mnist.train.images\n",
    "train_labels = np.asarray(mnist.train.labels, dtype=np.int32)\n",
    "\n",
    "eval_data = mnist.test.images\n",
    "eval_labels = np.asarray(mnist.test.labels, dtype=np.int32)\n",
    "\n",
    "category_names = list(map(str, range(10)))\n",
    "\n",
    "# TODO: Process mnist data\n",
    "print(train_data.shape)\n",
    "train_data = np.reshape(train_data, (-1, image_height, image_width, color_channels))\n",
    "print(train_data.shape)"
   ]
  },
  {
   "cell_type": "markdown",
   "metadata": {},
   "source": [
    "CIFAR-10\n",
    "---\n",
    "\n",
    "Run this cell to load cifar-10 data"
   ]
  },
  {
   "cell_type": "code",
   "execution_count": null,
   "metadata": {},
   "outputs": [],
   "source": [
    "# Load cifar data from file\n",
    "\n",
    "image_height = 32\n",
    "image_width = 32\n",
    "\n",
    "color_channels = 3\n",
    "\n",
    "model_name = \"cifar\"\n",
    "\n",
    "def unpickle(file):\n",
    "    import pickle\n",
    "    with open(file, 'rb') as fo:\n",
    "        dict = pickle.load(fo, encoding='bytes')\n",
    "    return dict\n",
    "\n",
    "cifar_path = './cifar-10-data/'\n",
    "\n",
    "train_data = np.array([])\n",
    "train_labels = np.array([])\n",
    "\n",
    "# Load all the data batches.\n",
    "for i in range(1,6):\n",
    "    data_batch = unpickle(cifar_path + 'data_batch_' + str(i))\n",
    "    train_data = np.append(train_data, data_batch[b'data'])\n",
    "    train_labels = np.append(train_labels, data_batch[b'labels'])\n",
    "\n",
    "\n",
    "# Load the eval batch.\n",
    "eval_batch = unpickle(cifar_path + 'test_batch')\n",
    "\n",
    "eval_data = eval_batch[b'data']\n",
    "eval_labels = eval_batch[b'labels'] \n",
    "\n",
    "# Load the english category names.\n",
    "category_names_bytes = unpickle(cifar_path + 'batches.meta')[b'label_names']\n",
    "category_names = list(map(lambda x: x.decode(\"utf-8\"), category_names_bytes))\n",
    "\n",
    "# TODO: Process Cifar data\n",
    "def process_data(data):\n",
    "    float_data = np.array(data, dtype=float) / 255.0\n",
    "    reshaped_data = np.reshape(float_data, (-1, color_channels, image_height, image_width))\n",
    "     \n",
    "    transposed_data = np.transpose(reshaped_data, [0, 2, 3, 1])\n",
    "    return transposed_data\n",
    "    \n",
    "train_data = process_data(train_data)\n",
    "eval_data = process_data(eval_data)"
   ]
  },
  {
   "cell_type": "markdown",
   "metadata": {},
   "source": [
    "Once the data is processed, you have a few variables for the data itself and info about its shape:\n",
    "\n",
    "### Model Info\n",
    "\n",
    "- **image_height, image_width** - The height and width of the processed images\n",
    "- **color_channels** - the number of color channels in the image. This will be either 1 for grayscale or 3 for rgb.\n",
    "- **model_name** - either \"cifar\" or \"mnist\" - if you need to handle anything differently based on the model, check this variable.\n",
    "- **category_names** - strings for each category name (used to print out labels when testing results)\n",
    "\n",
    "### Training Data\n",
    "\n",
    "- **train_data** - the training data images\n",
    "- **train_labels** - the labels for the training data - the \"answer key\"\n",
    "\n",
    "### Evaluation Data\n",
    "\n",
    "- **eval_data** - Image data for evaluation. A different set of images to test your network's effectiveness.\n",
    "- **eval_labels** - the answer key for evaluation data.\n",
    "\n",
    "Building the Neural Network Model\n",
    "--\n",
    "\n",
    "Next, you'll build a neural network with the following architecture:\n",
    "\n",
    "- An input placeholder that takes one or more images.\n",
    "- 1st Convolutional layer with 32 filters and a kernel size of 5x5 and same padding\n",
    "- 1st Pooling layer with a 2x2 pool size and stride of 2\n",
    "- 2nd Convolutional layer with 64 filters and a kernel size of 5x5 and same padding\n",
    "- 2nd Pooling layer with a 2x2 pool size and stride of 2\n",
    "- Flatten the pooling layer\n",
    "- A fully connected layer with 1024 units\n",
    "- A dropout layer with a rate of 0.4\n",
    "- An output layer with an output size equal to the number of labels."
   ]
  },
  {
   "cell_type": "code",
   "execution_count": 7,
   "metadata": {},
   "outputs": [],
   "source": [
    "# TODO: The neural network\n",
    "class ConvNet:\n",
    "\n",
    "    def __init__(self, image_height, image_width, channels, num_classes):\n",
    "        self.input_layer = tf.placeholder(dtype=tf.float32, shape=[None, image_height, image_width, channels],\n",
    "                                          name=\"inputs\")\n",
    "        print(self.input_layer.shape)\n",
    "\n",
    "        conv_layer_1 = tf.layers.conv2d(self.input_layer, filters=32, kernel_size=[5, 5], padding=\"same\",\n",
    "                                        activation=tf.nn.relu)\n",
    "        print(conv_layer_1.shape)\n",
    "\n",
    "        pooling_layer_1 = tf.layers.max_pooling2d(conv_layer_1, pool_size=[2, 2], strides=2)\n",
    "        print(pooling_layer_1.shape)\n",
    "\n",
    "        conv_layer_2 = tf.layers.conv2d(pooling_layer_1, filters=64, kernel_size=[5, 5], padding=\"same\",\n",
    "                                        activation=tf.nn.relu)\n",
    "        print(conv_layer_2.shape)\n",
    "\n",
    "        pooling_layer_2 = tf.layers.max_pooling2d(conv_layer_2, pool_size=[2, 2], strides=2)\n",
    "        print(pooling_layer_2.shape)\n",
    "\n",
    "        flattened_pooling = tf.layers.flatten(pooling_layer_2)\n",
    "        dense_layer = tf.layers.dense(flattened_pooling, 1024, activation=tf.nn.relu)\n",
    "        print(dense_layer.shape)\n",
    "        dropout = tf.layers.dropout(dense_layer, rate=0.4, training=True)\n",
    "        outputs = tf.layers.dense(dropout, num_classes)\n",
    "        print(outputs.shape)\n",
    "\n",
    "        self.choice = tf.argmax(outputs, axis=1)\n",
    "        self.probability = tf.nn.softmax(outputs)\n",
    "\n",
    "        self.labels = tf.placeholder(dtype=tf.float32, name=\"labels\")\n",
    "        self.accuracy, self.accuracy_op = tf.metrics.accuracy(self.labels, self.choice)\n",
    "\n",
    "        one_hot_labels = tf.one_hot(indices=tf.cast(self.labels, dtype=tf.int32), depth=num_classes)\n",
    "        self.loss = tf.losses.softmax_cross_entropy(onehot_labels=one_hot_labels, logits=outputs)\n",
    "\n",
    "        optimizer = tf.train.GradientDescentOptimizer(learning_rate=1e-2)\n",
    "        self.train_operation = optimizer.minimize(loss=self.loss, global_step=tf.train.get_global_step())\n"
   ]
  },
  {
   "cell_type": "markdown",
   "metadata": {},
   "source": [
    "The Training Process\n",
    "---\n",
    "\n",
    "The cells below will set up and run the training process.\n",
    "\n",
    "- Set up initial values for batch size, training length.\n",
    "- Process data into batched datasets to feed into the network.\n",
    "- Run through batches of training data, update weights, save checkpoints."
   ]
  },
  {
   "cell_type": "code",
   "execution_count": 8,
   "metadata": {},
   "outputs": [],
   "source": [
    "# TODO: initialize variables\n",
    "training_steps = 20000\n",
    "batch_size = 64\n",
    " \n",
    "path = \"./\" + model_name + \"-cnn/\"\n",
    " \n",
    "load_checkpoint = True\n",
    "performance_graph = np.array([])"
   ]
  },
  {
   "cell_type": "code",
   "execution_count": 9,
   "metadata": {},
   "outputs": [
    {
     "name": "stdout",
     "output_type": "stream",
     "text": [
      "(?, 32, 32, 3)\n(?, 32, 32, 32)\n(?, 16, 16, 32)\n(?, 16, 16, 64)\n(?, 8, 8, 64)\n(?, 1024)\n(?, 10)\n"
     ]
    },
    {
     "name": "stdout",
     "output_type": "stream",
     "text": [
      "INFO:tensorflow:Restoring parameters from ./cifar-cnn/cifar-19999\n"
     ]
    },
    {
     "name": "stdout",
     "output_type": "stream",
     "text": [
      "Accuracy at step 1000: 0.98541\nSaving checkpoint\n"
     ]
    },
    {
     "name": "stdout",
     "output_type": "stream",
     "text": [
      "Accuracy at step 2000: 0.985606\nSaving checkpoint\n"
     ]
    },
    {
     "name": "stdout",
     "output_type": "stream",
     "text": [
      "Accuracy at step 3000: 0.98589\nSaving checkpoint\n"
     ]
    },
    {
     "name": "stdout",
     "output_type": "stream",
     "text": [
      "Accuracy at step 4000: 0.986319\nSaving checkpoint\n"
     ]
    },
    {
     "name": "stdout",
     "output_type": "stream",
     "text": [
      "Accuracy at step 5000: 0.986537\nSaving checkpoint\n"
     ]
    },
    {
     "name": "stdout",
     "output_type": "stream",
     "text": [
      "Accuracy at step 6000: 0.986832\nSaving checkpoint\n"
     ]
    },
    {
     "name": "stdout",
     "output_type": "stream",
     "text": [
      "Accuracy at step 7000: 0.987109\nSaving checkpoint\n"
     ]
    },
    {
     "name": "stdout",
     "output_type": "stream",
     "text": [
      "Accuracy at step 8000: 0.987306\nSaving checkpoint\n"
     ]
    },
    {
     "name": "stdout",
     "output_type": "stream",
     "text": [
      "Accuracy at step 9000: 0.987495\nSaving checkpoint\n"
     ]
    },
    {
     "name": "stdout",
     "output_type": "stream",
     "text": [
      "Accuracy at step 10000: 0.987685\nSaving checkpoint\n"
     ]
    },
    {
     "name": "stdout",
     "output_type": "stream",
     "text": [
      "Accuracy at step 11000: 0.987869\nSaving checkpoint\n"
     ]
    },
    {
     "name": "stdout",
     "output_type": "stream",
     "text": [
      "Accuracy at step 12000: 0.988033\nSaving checkpoint\n"
     ]
    },
    {
     "name": "stdout",
     "output_type": "stream",
     "text": [
      "Accuracy at step 13000: 0.988285\nSaving checkpoint\n"
     ]
    },
    {
     "name": "stdout",
     "output_type": "stream",
     "text": [
      "Accuracy at step 14000: 0.988477\nSaving checkpoint\n"
     ]
    },
    {
     "name": "stdout",
     "output_type": "stream",
     "text": [
      "Accuracy at step 15000: 0.988656\nSaving checkpoint\n"
     ]
    },
    {
     "name": "stdout",
     "output_type": "stream",
     "text": [
      "Accuracy at step 16000: 0.988839\nSaving checkpoint\n"
     ]
    },
    {
     "name": "stdout",
     "output_type": "stream",
     "text": [
      "Accuracy at step 17000: 0.988978\nSaving checkpoint\n"
     ]
    },
    {
     "name": "stdout",
     "output_type": "stream",
     "text": [
      "Accuracy at step 18000: 0.989186\nSaving checkpoint\n"
     ]
    },
    {
     "name": "stdout",
     "output_type": "stream",
     "text": [
      "Accuracy at step 19000: 0.989322\nSaving checkpoint\n"
     ]
    },
    {
     "name": "stdout",
     "output_type": "stream",
     "text": [
      "Saving final checkpoint for training session.\n"
     ]
    }
   ],
   "source": [
    "# TODO: implement the training loop\n",
    "tf.reset_default_graph()\n",
    " \n",
    "dataset = tf.data.Dataset.from_tensor_slices((train_data, train_labels))\n",
    "dataset = dataset.shuffle(buffer_size=train_labels.shape[0])\n",
    "dataset = dataset.batch(batch_size)\n",
    "dataset = dataset.repeat()\n",
    " \n",
    "dataset_iterator = dataset.make_initializable_iterator()\n",
    "next_element = dataset_iterator.get_next()\n",
    " \n",
    "cnn = ConvNet(image_height,image_width,color_channels,10)\n",
    " \n",
    "saver = tf.train.Saver(max_to_keep=2)\n",
    " \n",
    "if not os.path.exists(path):\n",
    "    os.makedirs(path)\n",
    "     \n",
    "with tf.Session() as sess:\n",
    "     \n",
    "    if load_checkpoint:\n",
    "        checkpoint = tf.train.get_checkpoint_state(path)\n",
    "        saver.restore(sess, checkpoint.model_checkpoint_path)\n",
    "    else:\n",
    "        sess.run(tf.global_variables_initializer())\n",
    "     \n",
    "    sess.run(tf.local_variables_initializer())\n",
    "    sess.run(dataset_iterator.initializer)\n",
    "    for step in range(training_steps):\n",
    "        current_batch = sess.run(next_element)\n",
    "         \n",
    "        batch_inputs = current_batch[0]\n",
    "        batch_labels = current_batch[1]\n",
    "         \n",
    "        sess.run((cnn.train_operation, cnn.accuracy_op), feed_dict={cnn.input_layer:batch_inputs, cnn.labels:batch_labels})\n",
    "        if step % 10 == 0:\n",
    "            performance_graph = np.append(performance_graph, sess.run(cnn.accuracy))\n",
    "         \n",
    "        if step % 1000 == 0 and step > 0:\n",
    "            current_acc = sess.run(cnn.accuracy)\n",
    "             \n",
    "            print(\"Accuracy at step \" + str(step) + \": \" + str(current_acc))\n",
    "            print(\"Saving checkpoint\")\n",
    "            saver.save(sess, path + model_name, step)\n",
    "         \n",
    "    print(\"Saving final checkpoint for training session.\")\n",
    "    saver.save(sess, path + model_name, step)"
   ]
  },
  {
   "cell_type": "markdown",
   "metadata": {},
   "source": [
    "Evaluating Performance\n",
    "---\n",
    "\n",
    "These cells will evaluate the performance of your network!"
   ]
  },
  {
   "cell_type": "code",
   "execution_count": 10,
   "metadata": {},
   "outputs": [
    {
     "data": {
      "text/plain": [
       "Text(0,0.5,'Accuracy')"
      ]
     },
     "execution_count": 10,
     "metadata": {},
     "output_type": "execute_result"
    },
    {
     "data": {
      "image/png": "[encoded data removed]",
      "text/plain": [
       "<matplotlib.figure.Figure at 0x7f88e30265f8>"
      ]
     },
     "metadata": {},
     "output_type": "display_data"
    }
   ],
   "source": [
    "# TODO: Display graph of performance over time\n",
    "plt.figure().set_facecolor('white')\n",
    "plt.plot(performance_graph)\n",
    "\n",
    "plt.xlabel(\"Steps\")\n",
    "plt.ylabel(\"Accuracy\")"
   ]
  },
  {
   "cell_type": "code",
   "execution_count": 11,
   "metadata": {},
   "outputs": [
    {
     "name": "stdout",
     "output_type": "stream",
     "text": [
      "INFO:tensorflow:Restoring parameters from ./cifar-cnn/cifar-19999\n"
     ]
    },
    {
     "name": "stdout",
     "output_type": "stream",
     "text": [
      "0.7057\n"
     ]
    }
   ],
   "source": [
    "# TODO: Run through the evaluation data set, check accuracy of model\n",
    "with tf.Session() as sess:\n",
    "    checkpoint = tf.train.get_checkpoint_state(path)\n",
    "    saver.restore(sess,checkpoint.model_checkpoint_path)\n",
    "     \n",
    "    sess.run(tf.local_variables_initializer())\n",
    "     \n",
    "    for image, label in zip(eval_data, eval_labels):\n",
    "        sess.run(cnn.accuracy_op, feed_dict={cnn.input_layer:[image], cnn.labels:label})\n",
    "     \n",
    "    print(sess.run(cnn.accuracy))"
   ]
  },
  {
   "cell_type": "code",
   "execution_count": 23,
   "metadata": {},
   "outputs": [
    {
     "name": "stdout",
     "output_type": "stream",
     "text": [
      "INFO:tensorflow:Restoring parameters from ./cifar-cnn/cifar-19999\n"
     ]
    },
    {
     "data": {
      "image/png": "[encoded data removed]",
      "text/plain": [
       "<matplotlib.figure.Figure at 0x7f88d9de5cc0>"
      ]
     },
     "metadata": {},
     "output_type": "display_data"
    }
   ],
   "source": [
    "# TODO: Get a random set of images and make guesses for each\n",
    "\n",
    "with tf.Session() as sess:\n",
    "    checkpoint = tf.train.get_checkpoint_state(path)\n",
    "    saver.restore(sess,checkpoint.model_checkpoint_path)\n",
    "     \n",
    "    indexes = np.random.choice(len(eval_data), 10, replace=False)\n",
    "     \n",
    "    rows = 5\n",
    "    cols = 2\n",
    "     \n",
    "    fig, axes = plt.subplots(rows, cols, figsize=(5,5))\n",
    "    fig.patch.set_facecolor('white')\n",
    "    image_count = 0\n",
    "     \n",
    "    for idx in indexes:\n",
    "        image_count += 1\n",
    "        sub = plt.subplot(rows,cols,image_count)\n",
    "        img = eval_data[idx]\n",
    "        if model_name == \"mnist\":\n",
    "            img = img.reshape(28, 28)\n",
    "        plt.imshow(img)\n",
    "        guess = sess.run(cnn.choice, feed_dict={cnn.input_layer:[eval_data[idx]]})\n",
    "        if model_name == \"mnist\":\n",
    "            guess_name = str(guess[0])\n",
    "            actual_name = str(eval_labels[idx])\n",
    "        else:\n",
    "            guess_name = category_names[guess[0]]\n",
    "            actual_name = category_names[eval_labels[idx]]\n",
    "        sub.set_title(\"G: \" + guess_name + \" A: \" + actual_name)\n",
    "    plt.tight_layout()\n",
    "     "
   ]
  },
  {
   "cell_type": "code",
   "execution_count": null,
   "metadata": {},
   "outputs": [],
   "source": []
  }
 ],
 "metadata": {
  "kernelspec": {
   "display_name": "Python 2",
   "language": "python",
   "name": "python2"
  },
  "language_info": {
   "codemirror_mode": {
    "name": "ipython",
    "version": 2
   },
   "file_extension": ".py",
   "mimetype": "text/x-python",
   "name": "python",
   "nbconvert_exporter": "python",
   "pygments_lexer": "ipython2",
   "version": "2.7.6"
  }
 },
 "nbformat": 4,
 "nbformat_minor": 0
}
